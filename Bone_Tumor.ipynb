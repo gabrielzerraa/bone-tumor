{
 "cells": [
  {
   "cell_type": "code",
   "execution_count": 3,
   "id": "6ba59f61-2d1e-480d-8c67-c5036d05f021",
   "metadata": {},
   "outputs": [],
   "source": [
    "import pandas as pd\n",
    "\n",
    "import plotly.express as px\n",
    "import seaborn as sns\n",
    "import matplotlib.pyplot as plt "
   ]
  },
  {
   "cell_type": "code",
   "execution_count": 4,
   "id": "68f2b273-88b7-4bf0-8361-7e9745fcd573",
   "metadata": {},
   "outputs": [],
   "source": [
    "df = pd.read_csv('Bone Tumor Dataset.csv')"
   ]
  },
  {
   "cell_type": "markdown",
   "id": "384f1487-44dd-4ebb-be6a-b4874cd52c10",
   "metadata": {},
   "source": [
    "# Informações Básicas do Dataframe"
   ]
  },
  {
   "cell_type": "markdown",
   "id": "1dc9500b-512e-4a53-bc5b-e9674845e0ad",
   "metadata": {},
   "source": [
    "**Patient ID:** A unique identifier for each patient.  \r\n",
    "**Sex:** The patient's sex.  \r\n",
    "**Age:** The patient's age at the time of diagnosis.  \r\n",
    "**Grade:** The grade of the tumor, which is a measure of how aggressive the tumor is.  \r\n",
    "**Histological type:** The type of tumor, such as osteosarcoma or Ewing sarcoma.  \r\n",
    "**MSKCC type:** The MSKCC type of the tumor, which is a more specific classification of the tumor.  \r\n",
    "**Site of primary STS:** The location of the tumor in the bone.  \r\n",
    "**Status (NED, AWD, D):** The patient's status, which can be NED (no evidence of disease), AWD (alive with disease), or D (dead).  \r\n",
    "**Treatment:** The treatment that the patient received, such as surgery, radiation therapy, or chemotherapy.  \r\n",
    "therapy."
   ]
  },
  {
   "cell_type": "code",
   "execution_count": 5,
   "id": "dce20095-0496-4899-83e6-ec51c991098c",
   "metadata": {},
   "outputs": [
    {
     "data": {
      "text/html": [
       "<div>\n",
       "<style scoped>\n",
       "    .dataframe tbody tr th:only-of-type {\n",
       "        vertical-align: middle;\n",
       "    }\n",
       "\n",
       "    .dataframe tbody tr th {\n",
       "        vertical-align: top;\n",
       "    }\n",
       "\n",
       "    .dataframe thead th {\n",
       "        text-align: right;\n",
       "    }\n",
       "</style>\n",
       "<table border=\"1\" class=\"dataframe\">\n",
       "  <thead>\n",
       "    <tr style=\"text-align: right;\">\n",
       "      <th></th>\n",
       "      <th>Patient ID</th>\n",
       "      <th>Sex</th>\n",
       "      <th>Age</th>\n",
       "      <th>Grade</th>\n",
       "      <th>Histological type</th>\n",
       "      <th>MSKCC type</th>\n",
       "      <th>Site of primary STS</th>\n",
       "      <th>Status (NED, AWD, D)</th>\n",
       "      <th>Treatment</th>\n",
       "    </tr>\n",
       "  </thead>\n",
       "  <tbody>\n",
       "    <tr>\n",
       "      <th>0</th>\n",
       "      <td>STS_001</td>\n",
       "      <td>Female</td>\n",
       "      <td>63</td>\n",
       "      <td>High</td>\n",
       "      <td>pleiomorphic leiomyosarcoma</td>\n",
       "      <td>Leiomyosarcoma</td>\n",
       "      <td>parascapusular</td>\n",
       "      <td>NED</td>\n",
       "      <td>Radiotherapy + Surgery</td>\n",
       "    </tr>\n",
       "    <tr>\n",
       "      <th>1</th>\n",
       "      <td>STS_002</td>\n",
       "      <td>Female</td>\n",
       "      <td>54</td>\n",
       "      <td>Intermediate</td>\n",
       "      <td>pleiomorphic leiomyosarcoma</td>\n",
       "      <td>MFH</td>\n",
       "      <td>left thigh</td>\n",
       "      <td>D</td>\n",
       "      <td>Surgery + Chemotherapy</td>\n",
       "    </tr>\n",
       "    <tr>\n",
       "      <th>2</th>\n",
       "      <td>STS_003</td>\n",
       "      <td>Male</td>\n",
       "      <td>22</td>\n",
       "      <td>Intermediate</td>\n",
       "      <td>synovial sarcoma</td>\n",
       "      <td>MFH</td>\n",
       "      <td>right buttock</td>\n",
       "      <td>D</td>\n",
       "      <td>Radiotherapy + Surgery</td>\n",
       "    </tr>\n",
       "    <tr>\n",
       "      <th>3</th>\n",
       "      <td>STS_004</td>\n",
       "      <td>Female</td>\n",
       "      <td>54</td>\n",
       "      <td>Intermediate</td>\n",
       "      <td>synovial sarcoma</td>\n",
       "      <td>Leiomyosarcoma</td>\n",
       "      <td>right thigh</td>\n",
       "      <td>NED</td>\n",
       "      <td>Radiotherapy + Surgery</td>\n",
       "    </tr>\n",
       "    <tr>\n",
       "      <th>4</th>\n",
       "      <td>STS_005</td>\n",
       "      <td>Male</td>\n",
       "      <td>63</td>\n",
       "      <td>High</td>\n",
       "      <td>pleiomorphic spindle cell undifferentiated</td>\n",
       "      <td>MFH</td>\n",
       "      <td>right parascapusular</td>\n",
       "      <td>AWD</td>\n",
       "      <td>Radiotherapy + Surgery + Chemotherapy</td>\n",
       "    </tr>\n",
       "  </tbody>\n",
       "</table>\n",
       "</div>"
      ],
      "text/plain": [
       "  Patient ID     Sex  Age         Grade  \\\n",
       "0    STS_001  Female   63          High   \n",
       "1    STS_002  Female   54  Intermediate   \n",
       "2    STS_003    Male   22  Intermediate   \n",
       "3    STS_004  Female   54  Intermediate   \n",
       "4    STS_005    Male   63          High   \n",
       "\n",
       "                            Histological type      MSKCC type  \\\n",
       "0                 pleiomorphic leiomyosarcoma  Leiomyosarcoma   \n",
       "1                 pleiomorphic leiomyosarcoma             MFH   \n",
       "2                            synovial sarcoma             MFH   \n",
       "3                            synovial sarcoma  Leiomyosarcoma   \n",
       "4  pleiomorphic spindle cell undifferentiated             MFH   \n",
       "\n",
       "    Site of primary STS Status (NED, AWD, D)  \\\n",
       "0        parascapusular                  NED   \n",
       "1            left thigh                    D   \n",
       "2         right buttock                    D   \n",
       "3           right thigh                  NED   \n",
       "4  right parascapusular                  AWD   \n",
       "\n",
       "                               Treatment  \n",
       "0                 Radiotherapy + Surgery  \n",
       "1                 Surgery + Chemotherapy  \n",
       "2                 Radiotherapy + Surgery  \n",
       "3                 Radiotherapy + Surgery  \n",
       "4  Radiotherapy + Surgery + Chemotherapy  "
      ]
     },
     "execution_count": 5,
     "metadata": {},
     "output_type": "execute_result"
    }
   ],
   "source": [
    "df.head()"
   ]
  },
  {
   "cell_type": "code",
   "execution_count": 6,
   "id": "7c064057-2055-49b3-b2e8-e67046dcd292",
   "metadata": {},
   "outputs": [
    {
     "name": "stdout",
     "output_type": "stream",
     "text": [
      "O dataframe tem 500 linhas e 9 columas\n"
     ]
    }
   ],
   "source": [
    "print(f'O dataframe tem {df.shape[0]} linhas e {df.shape[1]} columas')"
   ]
  },
  {
   "cell_type": "code",
   "execution_count": 7,
   "id": "833dd704-2923-4d64-97d9-0f1149bfd14c",
   "metadata": {},
   "outputs": [
    {
     "name": "stdout",
     "output_type": "stream",
     "text": [
      "<class 'pandas.core.frame.DataFrame'>\n",
      "RangeIndex: 500 entries, 0 to 499\n",
      "Data columns (total 9 columns):\n",
      " #   Column                Non-Null Count  Dtype \n",
      "---  ------                --------------  ----- \n",
      " 0   Patient ID            500 non-null    object\n",
      " 1   Sex                   500 non-null    object\n",
      " 2   Age                   500 non-null    int64 \n",
      " 3   Grade                 500 non-null    object\n",
      " 4   Histological type     500 non-null    object\n",
      " 5   MSKCC type            500 non-null    object\n",
      " 6   Site of primary STS   500 non-null    object\n",
      " 7   Status (NED, AWD, D)  500 non-null    object\n",
      " 8   Treatment             500 non-null    object\n",
      "dtypes: int64(1), object(8)\n",
      "memory usage: 35.3+ KB\n"
     ]
    }
   ],
   "source": [
    "# Informações do dataframe\n",
    "df.info()"
   ]
  },
  {
   "cell_type": "code",
   "execution_count": 8,
   "id": "3ce736cc-f224-4570-ade4-ee8b16300ca5",
   "metadata": {},
   "outputs": [
    {
     "data": {
      "text/plain": [
       "Patient ID              500\n",
       "Sex                       2\n",
       "Age                      65\n",
       "Grade                     2\n",
       "Histological type        13\n",
       "MSKCC type                3\n",
       "Site of primary STS       7\n",
       "Status (NED, AWD, D)      3\n",
       "Treatment                 3\n",
       "dtype: int64"
      ]
     },
     "execution_count": 8,
     "metadata": {},
     "output_type": "execute_result"
    }
   ],
   "source": [
    "df.nunique()"
   ]
  },
  {
   "cell_type": "markdown",
   "id": "7ef55fb8-14bf-4666-a650-f68941acee0b",
   "metadata": {},
   "source": [
    "# Criar três novas colunas com os tipos de tratamentos"
   ]
  },
  {
   "cell_type": "code",
   "execution_count": 9,
   "id": "23fc5e8e-4c09-4d5e-b15e-cd7586d38634",
   "metadata": {},
   "outputs": [
    {
     "data": {
      "text/plain": [
       "Treatment\n",
       "Radiotherapy + Surgery                   293\n",
       "Radiotherapy + Surgery + Chemotherapy    143\n",
       "Surgery + Chemotherapy                    64\n",
       "Name: count, dtype: int64"
      ]
     },
     "execution_count": 9,
     "metadata": {},
     "output_type": "execute_result"
    }
   ],
   "source": [
    "df['Treatment'].value_counts()"
   ]
  },
  {
   "cell_type": "code",
   "execution_count": 10,
   "id": "d949453b-8c74-4e18-ac5b-b6d20a32c16e",
   "metadata": {},
   "outputs": [],
   "source": [
    "# Criar três novas colunas separados pelo \"+\"\n",
    "df[['Radiotherapy', 'Surgery', 'Chemotherapy']] = df['Treatment'].str.split('+', expand=True)\n",
    "# Apagar coluna Treatment\n",
    "df = df.drop(columns=['Treatment'])"
   ]
  },
  {
   "cell_type": "markdown",
   "id": "8e530907-ddb1-4196-86f1-e1fb66b0b44a",
   "metadata": {},
   "source": [
    "## Apagar os espaços"
   ]
  },
  {
   "cell_type": "code",
   "execution_count": 11,
   "id": "8cf9960e-e5d7-41c9-be2c-4ddda51442bd",
   "metadata": {},
   "outputs": [],
   "source": [
    "df['Radiotherapy'] = df['Radiotherapy'].str.strip()\n",
    "df['Chemotherapy'] = df['Chemotherapy'].str.strip()\n",
    "df['Surgery'] = df['Surgery'].str.strip()"
   ]
  },
  {
   "cell_type": "markdown",
   "id": "20b4a771-4104-4546-8f13-b1e0601ca8f7",
   "metadata": {},
   "source": [
    "## Organizar os dados e transformar em dados qualitativos binários"
   ]
  },
  {
   "cell_type": "code",
   "execution_count": 12,
   "id": "ed2be941-9b19-48e6-aa1e-292ea93f0c72",
   "metadata": {},
   "outputs": [],
   "source": [
    "# Mudar para \"Chemotherapy\" na coluna Chemotherapy, tudo que estiver como \"Chemoterapy\" na coluna Surgery.\n",
    "df.loc[df['Surgery'] == 'Chemotherapy', 'Chemotherapy'] = df.loc[df['Surgery'] == 'Chemotherapy', 'Chemotherapy'].replace({None:'Chemotherapy'})\n",
    "\n",
    "# Mudar para \"Surgery\" na coluna Surgery, tudo que estiver como \"Surgery\" na coluna Radiotherapy.\n",
    "df.loc[df['Radiotherapy'] == 'Surgery', 'Surgery'] = df.loc[df['Radiotherapy'] == 'Surgery', 'Surgery'].replace({None:'Surgery'})\n",
    "\n",
    "# Mudar pra None tudo que estiver como \"Surgery\" na coluna Radiotherapy\n",
    "df.loc[df['Radiotherapy'] == 'Surgery', 'Radiotherapy'] = df.loc[df['Radiotherapy'] == 'Surgery', 'Radiotherapy'].replace({'Surgery':None})\n",
    "\n",
    "#Mudar pra \"Surgery\" tudo que estiver como \"Chemotherapy\" na coluna Surgery\n",
    "df.loc[df['Surgery'] == 'Chemotherapy', 'Surgery'] = df.loc[df['Surgery'] == 'Chemotherapy', 'Surgery'].replace({'Chemotherapy':'Surgery'})"
   ]
  },
  {
   "cell_type": "code",
   "execution_count": 13,
   "id": "aa17a280-7639-4bd3-8f03-758bfdc4052e",
   "metadata": {},
   "outputs": [],
   "source": [
    "# Transformar em dados qualitativos binários\n",
    "df['Radiotherapy'] = df['Radiotherapy'].replace({'Radiotherapy':'Yes', None:'No'})\n",
    "df['Chemotherapy'] = df['Chemotherapy'].replace({'Chemotherapy':'Yes', None:'No'})\n",
    "df['Surgery'] = df['Surgery'].replace({'Surgery':'Yes', None:'No'})"
   ]
  },
  {
   "cell_type": "code",
   "execution_count": 14,
   "id": "bb937865-6311-4373-bcce-06be103accd0",
   "metadata": {
    "scrolled": true
   },
   "outputs": [
    {
     "data": {
      "text/html": [
       "<div>\n",
       "<style scoped>\n",
       "    .dataframe tbody tr th:only-of-type {\n",
       "        vertical-align: middle;\n",
       "    }\n",
       "\n",
       "    .dataframe tbody tr th {\n",
       "        vertical-align: top;\n",
       "    }\n",
       "\n",
       "    .dataframe thead th {\n",
       "        text-align: right;\n",
       "    }\n",
       "</style>\n",
       "<table border=\"1\" class=\"dataframe\">\n",
       "  <thead>\n",
       "    <tr style=\"text-align: right;\">\n",
       "      <th></th>\n",
       "      <th>Patient ID</th>\n",
       "      <th>Sex</th>\n",
       "      <th>Age</th>\n",
       "      <th>Grade</th>\n",
       "      <th>Histological type</th>\n",
       "      <th>MSKCC type</th>\n",
       "      <th>Site of primary STS</th>\n",
       "      <th>Status (NED, AWD, D)</th>\n",
       "      <th>Radiotherapy</th>\n",
       "      <th>Surgery</th>\n",
       "      <th>Chemotherapy</th>\n",
       "    </tr>\n",
       "  </thead>\n",
       "  <tbody>\n",
       "    <tr>\n",
       "      <th>0</th>\n",
       "      <td>STS_001</td>\n",
       "      <td>Female</td>\n",
       "      <td>63</td>\n",
       "      <td>High</td>\n",
       "      <td>pleiomorphic leiomyosarcoma</td>\n",
       "      <td>Leiomyosarcoma</td>\n",
       "      <td>parascapusular</td>\n",
       "      <td>NED</td>\n",
       "      <td>Yes</td>\n",
       "      <td>Yes</td>\n",
       "      <td>No</td>\n",
       "    </tr>\n",
       "    <tr>\n",
       "      <th>1</th>\n",
       "      <td>STS_002</td>\n",
       "      <td>Female</td>\n",
       "      <td>54</td>\n",
       "      <td>Intermediate</td>\n",
       "      <td>pleiomorphic leiomyosarcoma</td>\n",
       "      <td>MFH</td>\n",
       "      <td>left thigh</td>\n",
       "      <td>D</td>\n",
       "      <td>No</td>\n",
       "      <td>Yes</td>\n",
       "      <td>Yes</td>\n",
       "    </tr>\n",
       "    <tr>\n",
       "      <th>2</th>\n",
       "      <td>STS_003</td>\n",
       "      <td>Male</td>\n",
       "      <td>22</td>\n",
       "      <td>Intermediate</td>\n",
       "      <td>synovial sarcoma</td>\n",
       "      <td>MFH</td>\n",
       "      <td>right buttock</td>\n",
       "      <td>D</td>\n",
       "      <td>Yes</td>\n",
       "      <td>Yes</td>\n",
       "      <td>No</td>\n",
       "    </tr>\n",
       "    <tr>\n",
       "      <th>3</th>\n",
       "      <td>STS_004</td>\n",
       "      <td>Female</td>\n",
       "      <td>54</td>\n",
       "      <td>Intermediate</td>\n",
       "      <td>synovial sarcoma</td>\n",
       "      <td>Leiomyosarcoma</td>\n",
       "      <td>right thigh</td>\n",
       "      <td>NED</td>\n",
       "      <td>Yes</td>\n",
       "      <td>Yes</td>\n",
       "      <td>No</td>\n",
       "    </tr>\n",
       "    <tr>\n",
       "      <th>4</th>\n",
       "      <td>STS_005</td>\n",
       "      <td>Male</td>\n",
       "      <td>63</td>\n",
       "      <td>High</td>\n",
       "      <td>pleiomorphic spindle cell undifferentiated</td>\n",
       "      <td>MFH</td>\n",
       "      <td>right parascapusular</td>\n",
       "      <td>AWD</td>\n",
       "      <td>Yes</td>\n",
       "      <td>Yes</td>\n",
       "      <td>Yes</td>\n",
       "    </tr>\n",
       "  </tbody>\n",
       "</table>\n",
       "</div>"
      ],
      "text/plain": [
       "  Patient ID     Sex  Age         Grade  \\\n",
       "0    STS_001  Female   63          High   \n",
       "1    STS_002  Female   54  Intermediate   \n",
       "2    STS_003    Male   22  Intermediate   \n",
       "3    STS_004  Female   54  Intermediate   \n",
       "4    STS_005    Male   63          High   \n",
       "\n",
       "                            Histological type      MSKCC type  \\\n",
       "0                 pleiomorphic leiomyosarcoma  Leiomyosarcoma   \n",
       "1                 pleiomorphic leiomyosarcoma             MFH   \n",
       "2                            synovial sarcoma             MFH   \n",
       "3                            synovial sarcoma  Leiomyosarcoma   \n",
       "4  pleiomorphic spindle cell undifferentiated             MFH   \n",
       "\n",
       "    Site of primary STS Status (NED, AWD, D) Radiotherapy Surgery Chemotherapy  \n",
       "0        parascapusular                  NED          Yes     Yes           No  \n",
       "1            left thigh                    D           No     Yes          Yes  \n",
       "2         right buttock                    D          Yes     Yes           No  \n",
       "3           right thigh                  NED          Yes     Yes           No  \n",
       "4  right parascapusular                  AWD          Yes     Yes          Yes  "
      ]
     },
     "execution_count": 14,
     "metadata": {},
     "output_type": "execute_result"
    }
   ],
   "source": [
    "df.head()"
   ]
  },
  {
   "cell_type": "markdown",
   "id": "e1a72554-9b4d-49ff-bbff-b4558b6155eb",
   "metadata": {},
   "source": [
    "# Próximo passo"
   ]
  },
  {
   "cell_type": "code",
   "execution_count": 15,
   "id": "dbe39dbc-9032-4a62-96f0-e5db398e43da",
   "metadata": {},
   "outputs": [
    {
     "data": {
      "text/plain": [
       "Sex\n",
       "Female    300\n",
       "Male      200\n",
       "Name: count, dtype: int64"
      ]
     },
     "execution_count": 15,
     "metadata": {},
     "output_type": "execute_result"
    }
   ],
   "source": [
    "df['Sex'].value_counts()"
   ]
  },
  {
   "cell_type": "code",
   "execution_count": 16,
   "id": "d8465574-8050-4ed3-9ac2-928ec36e7bb2",
   "metadata": {},
   "outputs": [
    {
     "data": {
      "text/plain": [
       "Age\n",
       "63    17\n",
       "41    17\n",
       "72    17\n",
       "45    16\n",
       "66    16\n",
       "      ..\n",
       "23     1\n",
       "19     1\n",
       "26     1\n",
       "29     1\n",
       "27     1\n",
       "Name: count, Length: 65, dtype: int64"
      ]
     },
     "execution_count": 16,
     "metadata": {},
     "output_type": "execute_result"
    }
   ],
   "source": [
    "df['Age'].value_counts()"
   ]
  },
  {
   "cell_type": "code",
   "execution_count": 17,
   "id": "912974ec-11e7-4bd3-8c1c-3c1577bc8cb9",
   "metadata": {},
   "outputs": [
    {
     "data": {
      "text/plain": [
       "Grade\n",
       "Intermediate    282\n",
       "High            218\n",
       "Name: count, dtype: int64"
      ]
     },
     "execution_count": 17,
     "metadata": {},
     "output_type": "execute_result"
    }
   ],
   "source": [
    "df['Grade'].value_counts()"
   ]
  },
  {
   "cell_type": "code",
   "execution_count": 18,
   "id": "998e9bed-e8f8-4ca9-8d71-1fa493bb3c26",
   "metadata": {},
   "outputs": [
    {
     "data": {
      "text/plain": [
       "Histological type\n",
       "pleiomorphic leiomyosarcoma                   104\n",
       "synovial sarcoma                               73\n",
       "leiomyosarcoma                                 43\n",
       "myxofibrosarcoma                               40\n",
       "undifferentiated - pleiomorphic                34\n",
       "sclerosing epithelioid fibrosarcoma            33\n",
       "pleiomorphic spindle cell undifferentiated     29\n",
       "malignant solitary fibrous tumor               29\n",
       "undifferentiated pleomorphic liposarcoma       28\n",
       "myxoid fibrosarcoma                            27\n",
       "poorly differentiated synovial sarcoma         24\n",
       "pleomorphic sarcoma                            21\n",
       "epithelioid sarcoma                            15\n",
       "Name: count, dtype: int64"
      ]
     },
     "execution_count": 18,
     "metadata": {},
     "output_type": "execute_result"
    }
   ],
   "source": [
    "df['Histological type'].value_counts()"
   ]
  },
  {
   "cell_type": "code",
   "execution_count": 19,
   "id": "abfa0c4d-0cfb-4561-8508-056d448c4f33",
   "metadata": {},
   "outputs": [
    {
     "data": {
      "text/plain": [
       "MSKCC type\n",
       "MFH                 225\n",
       "Leiomyosarcoma      144\n",
       "Synovial sarcoma    131\n",
       "Name: count, dtype: int64"
      ]
     },
     "execution_count": 19,
     "metadata": {},
     "output_type": "execute_result"
    }
   ],
   "source": [
    "df['MSKCC type'].value_counts()"
   ]
  },
  {
   "cell_type": "code",
   "execution_count": 20,
   "id": "7d2e58ad-8c2a-4156-ac99-37cc3b83fd9e",
   "metadata": {},
   "outputs": [
    {
     "data": {
      "text/plain": [
       "Site of primary STS\n",
       "left thigh              152\n",
       "right thigh             135\n",
       "right buttock            72\n",
       "parascapusular           39\n",
       "left biceps              36\n",
       "left buttock             36\n",
       "right parascapusular     30\n",
       "Name: count, dtype: int64"
      ]
     },
     "execution_count": 20,
     "metadata": {},
     "output_type": "execute_result"
    }
   ],
   "source": [
    "df['Site of primary STS'].value_counts()"
   ]
  },
  {
   "cell_type": "code",
   "execution_count": 21,
   "id": "91da0560-88b2-414b-ade6-ca6291b01f62",
   "metadata": {},
   "outputs": [
    {
     "data": {
      "text/plain": [
       "Status (NED, AWD, D)\n",
       "NED    247\n",
       "D      141\n",
       "AWD    112\n",
       "Name: count, dtype: int64"
      ]
     },
     "execution_count": 21,
     "metadata": {},
     "output_type": "execute_result"
    }
   ],
   "source": [
    "df['Status (NED, AWD, D)'].value_counts()"
   ]
  },
  {
   "cell_type": "code",
   "execution_count": 22,
   "id": "90df8211-9840-4eeb-acb2-89c285ad0693",
   "metadata": {},
   "outputs": [
    {
     "data": {
      "text/plain": [
       "Radiotherapy\n",
       "Yes    436\n",
       "No      64\n",
       "Name: count, dtype: int64"
      ]
     },
     "execution_count": 22,
     "metadata": {},
     "output_type": "execute_result"
    }
   ],
   "source": [
    "df['Radiotherapy'].value_counts()"
   ]
  },
  {
   "cell_type": "code",
   "execution_count": 23,
   "id": "2aea1d4f-f94e-4396-baa4-df3b9594746b",
   "metadata": {},
   "outputs": [
    {
     "data": {
      "text/plain": [
       "Surgery\n",
       "Yes    500\n",
       "Name: count, dtype: int64"
      ]
     },
     "execution_count": 23,
     "metadata": {},
     "output_type": "execute_result"
    }
   ],
   "source": [
    "df['Surgery'].value_counts()"
   ]
  },
  {
   "cell_type": "code",
   "execution_count": 24,
   "id": "584c0fd7-164c-49db-8466-368dc946cdc5",
   "metadata": {},
   "outputs": [
    {
     "data": {
      "text/plain": [
       "Chemotherapy\n",
       "No     293\n",
       "Yes    207\n",
       "Name: count, dtype: int64"
      ]
     },
     "execution_count": 24,
     "metadata": {},
     "output_type": "execute_result"
    }
   ],
   "source": [
    "df['Chemotherapy'].value_counts()"
   ]
  },
  {
   "cell_type": "markdown",
   "id": "91da8028-a47e-4d6f-be05-e3c5d64d822c",
   "metadata": {},
   "source": [
    "# Visualização de dados"
   ]
  },
  {
   "cell_type": "code",
   "execution_count": 29,
   "id": "86f5eba4-d5b9-4135-a908-1407d26c1fb4",
   "metadata": {},
   "outputs": [
    {
     "data": {
      "image/png": "[encoded data removed]",
      "text/plain": [
       "<Figure size 900x400 with 1 Axes>"
      ]
     },
     "metadata": {},
     "output_type": "display_data"
    }
   ],
   "source": [
    "plt.figure(figsize=(9,4))\n",
    "\n",
    "ax = sns.countplot(df, x='Sex', color='#778899')\n",
    "\n",
    "ax.set_title('Sexo', loc='center', fontsize=12)\n",
    "plt.figtext(s='Fonte: Kaggle', fontsize=7, color='#546270', x=0.81, y=0)\n",
    "\n",
    "ax.set_xlabel('')\n",
    "ax.set_ylabel('')\n",
    "ax.spines[['right', 'left', 'top', 'bottom']].set_visible(False)\n",
    "plt.yticks([])\n",
    "plt.xticks([0, 1], ['Mulher', 'Homem'])\n",
    "\n",
    "ax.bar_label(ax.containers[0], fmt='%.0f')\n",
    "bars = ax.patches  \n",
    "bars[0].set_color('#546270') \n",
    "\n",
    "ax.margins(x=0.1, y=0.15)\n",
    "\n",
    "plt.show()"
   ]
  },
  {
   "cell_type": "code",
   "execution_count": 58,
   "id": "376891cb-7569-4de7-b581-eb9ae858dd31",
   "metadata": {},
   "outputs": [
    {
     "name": "stderr",
     "output_type": "stream",
     "text": [
      "C:\\Users\\Gabriel\\anaconda3\\Lib\\site-packages\\seaborn\\_oldcore.py:1119: FutureWarning: use_inf_as_na option is deprecated and will be removed in a future version. Convert inf values to NaN before operating instead.\n",
      "  with pd.option_context('mode.use_inf_as_na', True):\n"
     ]
    },
    {
     "data": {
      "image/png": "[encoded data removed]",
      "text/plain": [
       "<Figure size 1800x600 with 1 Axes>"
      ]
     },
     "metadata": {},
     "output_type": "display_data"
    }
   ],
   "source": [
    "plt.figure(figsize=(18,6))\n",
    "\n",
    "ax = sns.histplot(data=df, x='Age', color='#778899', bins=20, kde=True)\n",
    "\n",
    "ax.set_title('Faixa Etária', loc='left', fontsize=12)\n",
    "plt.figtext(s='Fonte: Kaggle', fontsize=8, color='#546270', x=0.86, y=0)\n",
    "ax.set_xlabel('')\n",
    "ax.set_ylabel('')\n",
    "ax.spines[['right', 'left', 'top', 'bottom']].set_visible(False)\n",
    "plt.yticks([])\n",
    "\n",
    "bars = ax.patches  \n",
    "bars[13].set_color('#546270')  \n",
    "\n",
    "plt.show()"
   ]
  },
  {
   "cell_type": "code",
   "execution_count": 56,
   "id": "886eaffa-d259-412f-9ee0-03f2ecfb3624",
   "metadata": {},
   "outputs": [
    {
     "name": "stderr",
     "output_type": "stream",
     "text": [
      "C:\\Users\\Gabriel\\anaconda3\\Lib\\site-packages\\seaborn\\_oldcore.py:1119: FutureWarning: use_inf_as_na option is deprecated and will be removed in a future version. Convert inf values to NaN before operating instead.\n",
      "  with pd.option_context('mode.use_inf_as_na', True):\n"
     ]
    },
    {
     "data": {
      "image/png": "[encoded data removed]",
      "text/plain": [
       "<Figure size 1800x600 with 1 Axes>"
      ]
     },
     "metadata": {},
     "output_type": "display_data"
    }
   ],
   "source": [
    "plt.figure(figsize=(18,6))\n",
    "\n",
    "ax = sns.histplot(data=df, x='Age', color='#778899', bins=20, kde=True, hue='Sex')\n",
    "\n",
    "ax.set_title('Faixa Etária', loc='left', fontsize=12)\n",
    "plt.figtext(s='Fonte: Kaggle', fontsize=8, color='#546270', x=0.86, y=0)\n",
    "ax.set_xlabel('')\n",
    "ax.set_ylabel('')\n",
    "ax.spines[['right', 'left', 'top', 'bottom']].set_visible(False)\n",
    "plt.yticks([])\n",
    "\n",
    "#bars = ax.patches  \n",
    "#bars[13].set_color('#546270')  \n",
    "\n",
    "plt.show()"
   ]
  },
  {
   "cell_type": "code",
   "execution_count": 62,
   "id": "bd79088f-8ed7-41dc-87ef-a2fa693b2ddf",
   "metadata": {},
   "outputs": [
    {
     "data": {
      "image/png": "[encoded data removed]",
      "text/plain": [
       "<Figure size 900x400 with 1 Axes>"
      ]
     },
     "metadata": {},
     "output_type": "display_data"
    }
   ],
   "source": [
    "plt.figure(figsize=(9,4))\n",
    "\n",
    "ax = sns.countplot(df, x='Status (NED, AWD, D)', color='#778899')\n",
    "\n",
    "ax.set_title('Status', loc='center', fontsize=12)\n",
    "plt.figtext(s='Fonte: Kaggle', fontsize=7, color='#546270', x=0.81, y=0)\n",
    "\n",
    "ax.set_xlabel('')\n",
    "ax.set_ylabel('')\n",
    "ax.spines[['right', 'left', 'top', 'bottom']].set_visible(False)\n",
    "plt.yticks([])\n",
    "plt.xticks([0, 1, 2], ['Ned', 'Dead', 'Alive'])\n",
    "\n",
    "ax.bar_label(ax.containers[0], fmt='%.0f')\n",
    "bars = ax.patches  \n",
    "bars[0].set_color('#546270') \n",
    "\n",
    "ax.margins(x=0.1, y=0.15)\n",
    "\n",
    "plt.show()"
   ]
  },
  {
   "cell_type": "code",
   "execution_count": 76,
   "id": "a9ead5ca-7c55-4a59-8541-54c4e72d726a",
   "metadata": {},
   "outputs": [
    {
     "data": {
      "image/png": "[encoded data removed]",
      "text/plain": [
       "<Figure size 900x400 with 1 Axes>"
      ]
     },
     "metadata": {},
     "output_type": "display_data"
    }
   ],
   "source": [
    "plt.figure(figsize=(9,4))\n",
    "\n",
    "ax = sns.countplot(df, x='Status (NED, AWD, D)', palette=['#546270', '#998877'], hue='Sex')\n",
    "\n",
    "ax.set_title('Status', loc='center', fontsize=12)\n",
    "plt.figtext(s='Fonte: Kaggle', fontsize=7, color='#546270', x=0.81, y=0)\n",
    "\n",
    "ax.set_xlabel('')\n",
    "ax.set_ylabel('')\n",
    "ax.spines[['right', 'left', 'top', 'bottom']].set_visible(False)\n",
    "plt.yticks([])\n",
    "plt.xticks([0, 1, 2], ['Ned', 'Dead', 'Alive'])\n",
    "\n",
    "ax.bar_label(ax.containers[0], fmt='%.0f')\n",
    "ax.bar_label(ax.containers[1], fmt='%.0f')\n",
    "\n",
    "ax.margins(x=0.1, y=0.15)\n",
    "\n",
    "plt.show()"
   ]
  },
  {
   "cell_type": "code",
   "execution_count": null,
   "id": "592636aa-cede-4683-8da6-01780fe4d7ef",
   "metadata": {},
   "outputs": [],
   "source": []
  }
 ],
 "metadata": {
  "kernelspec": {
   "display_name": "Python 3 (ipykernel)",
   "language": "python",
   "name": "python3"
  },
  "language_info": {
   "codemirror_mode": {
    "name": "ipython",
    "version": 3
   },
   "file_extension": ".py",
   "mimetype": "text/x-python",
   "name": "python",
   "nbconvert_exporter": "python",
   "pygments_lexer": "ipython3",
   "version": "3.11.7"
  }
 },
 "nbformat": 4,
 "nbformat_minor": 5
}
